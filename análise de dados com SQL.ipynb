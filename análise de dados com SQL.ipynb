{
 "cells": [
  {
   "cell_type": "code",
   "execution_count": 1,
   "id": "2d972d93",
   "metadata": {},
   "outputs": [],
   "source": [
    "import sqlite3"
   ]
  },
  {
   "cell_type": "code",
   "execution_count": 2,
   "id": "fb060f31",
   "metadata": {},
   "outputs": [],
   "source": [
    "import pandas as pd"
   ]
  },
  {
   "cell_type": "code",
   "execution_count": 3,
   "id": "cf00cd45",
   "metadata": {},
   "outputs": [],
   "source": [
    "con = sqlite3.connect('vendas_db.db')"
   ]
  },
  {
   "cell_type": "code",
   "execution_count": 4,
   "id": "739f4e10",
   "metadata": {},
   "outputs": [],
   "source": [
    "cur = con.cursor()"
   ]
  },
  {
   "cell_type": "code",
   "execution_count": 5,
   "id": "978d4a32",
   "metadata": {},
   "outputs": [],
   "source": [
    "def executa_consulta(consulta):\n",
    "    resultado = cur.execute(consulta).fetchall()\n",
    "    resultado = pd.DataFrame(resultado)\n",
    "    colunas = [i[0]for i in cur.description]\n",
    "    if resultado.shape[1] > 0:\n",
    "        resultado.columns = colunas\n",
    "    print(resultado.shape)\n",
    "    display(resultado.head(3))\n",
    "    return resultado\n",
    "    "
   ]
  },
  {
   "cell_type": "code",
   "execution_count": 9,
   "id": "ecc21d1e",
   "metadata": {},
   "outputs": [
    {
     "name": "stdout",
     "output_type": "stream",
     "text": [
      "(9, 5)\n"
     ]
    },
    {
     "data": {
      "text/html": [
       "<div>\n",
       "<style scoped>\n",
       "    .dataframe tbody tr th:only-of-type {\n",
       "        vertical-align: middle;\n",
       "    }\n",
       "\n",
       "    .dataframe tbody tr th {\n",
       "        vertical-align: top;\n",
       "    }\n",
       "\n",
       "    .dataframe thead th {\n",
       "        text-align: right;\n",
       "    }\n",
       "</style>\n",
       "<table border=\"1\" class=\"dataframe\">\n",
       "  <thead>\n",
       "    <tr style=\"text-align: right;\">\n",
       "      <th></th>\n",
       "      <th>type</th>\n",
       "      <th>name</th>\n",
       "      <th>tbl_name</th>\n",
       "      <th>rootpage</th>\n",
       "      <th>sql</th>\n",
       "    </tr>\n",
       "  </thead>\n",
       "  <tbody>\n",
       "    <tr>\n",
       "      <th>0</th>\n",
       "      <td>table</td>\n",
       "      <td>sellers</td>\n",
       "      <td>sellers</td>\n",
       "      <td>2</td>\n",
       "      <td>CREATE TABLE \"sellers\" (\\n\"index\" INTEGER,\\n  ...</td>\n",
       "    </tr>\n",
       "    <tr>\n",
       "      <th>1</th>\n",
       "      <td>table</td>\n",
       "      <td>product_category_name_translation</td>\n",
       "      <td>product_category_name_translation</td>\n",
       "      <td>59</td>\n",
       "      <td>CREATE TABLE \"product_category_name_translatio...</td>\n",
       "    </tr>\n",
       "    <tr>\n",
       "      <th>2</th>\n",
       "      <td>table</td>\n",
       "      <td>order_items</td>\n",
       "      <td>order_items</td>\n",
       "      <td>5077</td>\n",
       "      <td>CREATE TABLE \"order_items\" (\\n\"index\" INTEGER,...</td>\n",
       "    </tr>\n",
       "  </tbody>\n",
       "</table>\n",
       "</div>"
      ],
      "text/plain": [
       "    type                               name  \\\n",
       "0  table                            sellers   \n",
       "1  table  product_category_name_translation   \n",
       "2  table                        order_items   \n",
       "\n",
       "                            tbl_name  rootpage  \\\n",
       "0                            sellers         2   \n",
       "1  product_category_name_translation        59   \n",
       "2                        order_items      5077   \n",
       "\n",
       "                                                 sql  \n",
       "0  CREATE TABLE \"sellers\" (\\n\"index\" INTEGER,\\n  ...  \n",
       "1  CREATE TABLE \"product_category_name_translatio...  \n",
       "2  CREATE TABLE \"order_items\" (\\n\"index\" INTEGER,...  "
      ]
     },
     "metadata": {},
     "output_type": "display_data"
    },
    {
     "data": {
      "text/html": [
       "<div>\n",
       "<style scoped>\n",
       "    .dataframe tbody tr th:only-of-type {\n",
       "        vertical-align: middle;\n",
       "    }\n",
       "\n",
       "    .dataframe tbody tr th {\n",
       "        vertical-align: top;\n",
       "    }\n",
       "\n",
       "    .dataframe thead th {\n",
       "        text-align: right;\n",
       "    }\n",
       "</style>\n",
       "<table border=\"1\" class=\"dataframe\">\n",
       "  <thead>\n",
       "    <tr style=\"text-align: right;\">\n",
       "      <th></th>\n",
       "      <th>type</th>\n",
       "      <th>name</th>\n",
       "      <th>tbl_name</th>\n",
       "      <th>rootpage</th>\n",
       "      <th>sql</th>\n",
       "    </tr>\n",
       "  </thead>\n",
       "  <tbody>\n",
       "    <tr>\n",
       "      <th>0</th>\n",
       "      <td>table</td>\n",
       "      <td>sellers</td>\n",
       "      <td>sellers</td>\n",
       "      <td>2</td>\n",
       "      <td>CREATE TABLE \"sellers\" (\\n\"index\" INTEGER,\\n  ...</td>\n",
       "    </tr>\n",
       "    <tr>\n",
       "      <th>1</th>\n",
       "      <td>table</td>\n",
       "      <td>product_category_name_translation</td>\n",
       "      <td>product_category_name_translation</td>\n",
       "      <td>59</td>\n",
       "      <td>CREATE TABLE \"product_category_name_translatio...</td>\n",
       "    </tr>\n",
       "    <tr>\n",
       "      <th>2</th>\n",
       "      <td>table</td>\n",
       "      <td>order_items</td>\n",
       "      <td>order_items</td>\n",
       "      <td>5077</td>\n",
       "      <td>CREATE TABLE \"order_items\" (\\n\"index\" INTEGER,...</td>\n",
       "    </tr>\n",
       "    <tr>\n",
       "      <th>3</th>\n",
       "      <td>table</td>\n",
       "      <td>customers</td>\n",
       "      <td>customers</td>\n",
       "      <td>9612</td>\n",
       "      <td>CREATE TABLE \"customers\" (\\n\"index\" INTEGER,\\n...</td>\n",
       "    </tr>\n",
       "    <tr>\n",
       "      <th>4</th>\n",
       "      <td>table</td>\n",
       "      <td>geolocation</td>\n",
       "      <td>geolocation</td>\n",
       "      <td>12254</td>\n",
       "      <td>CREATE TABLE \"geolocation\" (\\n\"index\" INTEGER,...</td>\n",
       "    </tr>\n",
       "    <tr>\n",
       "      <th>5</th>\n",
       "      <td>table</td>\n",
       "      <td>order_payments</td>\n",
       "      <td>order_payments</td>\n",
       "      <td>27180</td>\n",
       "      <td>CREATE TABLE \"order_payments\" (\\n\"index\" INTEG...</td>\n",
       "    </tr>\n",
       "    <tr>\n",
       "      <th>6</th>\n",
       "      <td>table</td>\n",
       "      <td>order_reviews</td>\n",
       "      <td>order_reviews</td>\n",
       "      <td>29199</td>\n",
       "      <td>CREATE TABLE \"order_reviews\" (\\n\"index\" INTEGE...</td>\n",
       "    </tr>\n",
       "    <tr>\n",
       "      <th>7</th>\n",
       "      <td>table</td>\n",
       "      <td>products</td>\n",
       "      <td>products</td>\n",
       "      <td>33274</td>\n",
       "      <td>CREATE TABLE \"products\" (\\n\"index\" INTEGER,\\n ...</td>\n",
       "    </tr>\n",
       "    <tr>\n",
       "      <th>8</th>\n",
       "      <td>table</td>\n",
       "      <td>orders</td>\n",
       "      <td>orders</td>\n",
       "      <td>61</td>\n",
       "      <td>CREATE TABLE \"orders\" (\\n\"index\" INTEGER,\\n  \"...</td>\n",
       "    </tr>\n",
       "  </tbody>\n",
       "</table>\n",
       "</div>"
      ],
      "text/plain": [
       "    type                               name  \\\n",
       "0  table                            sellers   \n",
       "1  table  product_category_name_translation   \n",
       "2  table                        order_items   \n",
       "3  table                          customers   \n",
       "4  table                        geolocation   \n",
       "5  table                     order_payments   \n",
       "6  table                      order_reviews   \n",
       "7  table                           products   \n",
       "8  table                             orders   \n",
       "\n",
       "                            tbl_name  rootpage  \\\n",
       "0                            sellers         2   \n",
       "1  product_category_name_translation        59   \n",
       "2                        order_items      5077   \n",
       "3                          customers      9612   \n",
       "4                        geolocation     12254   \n",
       "5                     order_payments     27180   \n",
       "6                      order_reviews     29199   \n",
       "7                           products     33274   \n",
       "8                             orders        61   \n",
       "\n",
       "                                                 sql  \n",
       "0  CREATE TABLE \"sellers\" (\\n\"index\" INTEGER,\\n  ...  \n",
       "1  CREATE TABLE \"product_category_name_translatio...  \n",
       "2  CREATE TABLE \"order_items\" (\\n\"index\" INTEGER,...  \n",
       "3  CREATE TABLE \"customers\" (\\n\"index\" INTEGER,\\n...  \n",
       "4  CREATE TABLE \"geolocation\" (\\n\"index\" INTEGER,...  \n",
       "5  CREATE TABLE \"order_payments\" (\\n\"index\" INTEG...  \n",
       "6  CREATE TABLE \"order_reviews\" (\\n\"index\" INTEGE...  \n",
       "7  CREATE TABLE \"products\" (\\n\"index\" INTEGER,\\n ...  \n",
       "8  CREATE TABLE \"orders\" (\\n\"index\" INTEGER,\\n  \"...  "
      ]
     },
     "execution_count": 9,
     "metadata": {},
     "output_type": "execute_result"
    }
   ],
   "source": [
    "executa_consulta('select * from sqlite_schema where type = \"table\"')"
   ]
  },
  {
   "cell_type": "markdown",
   "id": "9e9d98d1",
   "metadata": {},
   "source": [
    "o atraso é um problema real?"
   ]
  },
  {
   "cell_type": "code",
   "execution_count": 10,
   "id": "ad9a8885",
   "metadata": {},
   "outputs": [
    {
     "name": "stdout",
     "output_type": "stream",
     "text": [
      "(99441, 4)\n"
     ]
    },
    {
     "data": {
      "text/html": [
       "<div>\n",
       "<style scoped>\n",
       "    .dataframe tbody tr th:only-of-type {\n",
       "        vertical-align: middle;\n",
       "    }\n",
       "\n",
       "    .dataframe tbody tr th {\n",
       "        vertical-align: top;\n",
       "    }\n",
       "\n",
       "    .dataframe thead th {\n",
       "        text-align: right;\n",
       "    }\n",
       "</style>\n",
       "<table border=\"1\" class=\"dataframe\">\n",
       "  <thead>\n",
       "    <tr style=\"text-align: right;\">\n",
       "      <th></th>\n",
       "      <th>order_id</th>\n",
       "      <th>order_purchase_timestamp</th>\n",
       "      <th>order_delivered_customer_date</th>\n",
       "      <th>order_estimated_delivery_date</th>\n",
       "    </tr>\n",
       "  </thead>\n",
       "  <tbody>\n",
       "    <tr>\n",
       "      <th>0</th>\n",
       "      <td>e481f51cbdc54678b7cc49136f2d6af7</td>\n",
       "      <td>2017-10-02 10:56:33</td>\n",
       "      <td>2017-10-10 21:25:13</td>\n",
       "      <td>2017-10-18 00:00:00</td>\n",
       "    </tr>\n",
       "    <tr>\n",
       "      <th>1</th>\n",
       "      <td>53cdb2fc8bc7dce0b6741e2150273451</td>\n",
       "      <td>2018-07-24 20:41:37</td>\n",
       "      <td>2018-08-07 15:27:45</td>\n",
       "      <td>2018-08-13 00:00:00</td>\n",
       "    </tr>\n",
       "    <tr>\n",
       "      <th>2</th>\n",
       "      <td>47770eb9100c2d0c44946d9cf07ec65d</td>\n",
       "      <td>2018-08-08 08:38:49</td>\n",
       "      <td>2018-08-17 18:06:29</td>\n",
       "      <td>2018-09-04 00:00:00</td>\n",
       "    </tr>\n",
       "  </tbody>\n",
       "</table>\n",
       "</div>"
      ],
      "text/plain": [
       "                           order_id order_purchase_timestamp  \\\n",
       "0  e481f51cbdc54678b7cc49136f2d6af7      2017-10-02 10:56:33   \n",
       "1  53cdb2fc8bc7dce0b6741e2150273451      2018-07-24 20:41:37   \n",
       "2  47770eb9100c2d0c44946d9cf07ec65d      2018-08-08 08:38:49   \n",
       "\n",
       "  order_delivered_customer_date order_estimated_delivery_date  \n",
       "0           2017-10-10 21:25:13           2017-10-18 00:00:00  \n",
       "1           2018-08-07 15:27:45           2018-08-13 00:00:00  \n",
       "2           2018-08-17 18:06:29           2018-09-04 00:00:00  "
      ]
     },
     "metadata": {},
     "output_type": "display_data"
    }
   ],
   "source": [
    "pedidos = executa_consulta('select order_id,\\\n",
    "                          order_purchase_timestamp,\\\n",
    "                          order_delivered_customer_date, \\\n",
    "                          order_estimated_delivery_date\\\n",
    "                          from orders')"
   ]
  },
  {
   "cell_type": "code",
   "execution_count": 11,
   "id": "47d3469b",
   "metadata": {},
   "outputs": [
    {
     "name": "stdout",
     "output_type": "stream",
     "text": [
      "<class 'pandas.core.frame.DataFrame'>\n",
      "RangeIndex: 99441 entries, 0 to 99440\n",
      "Data columns (total 4 columns):\n",
      " #   Column                         Non-Null Count  Dtype \n",
      "---  ------                         --------------  ----- \n",
      " 0   order_id                       99441 non-null  object\n",
      " 1   order_purchase_timestamp       99441 non-null  object\n",
      " 2   order_delivered_customer_date  96476 non-null  object\n",
      " 3   order_estimated_delivery_date  99441 non-null  object\n",
      "dtypes: object(4)\n",
      "memory usage: 3.0+ MB\n"
     ]
    }
   ],
   "source": [
    "pedidos.info()"
   ]
  },
  {
   "cell_type": "code",
   "execution_count": null,
   "id": "4e5a8234",
   "metadata": {},
   "outputs": [],
   "source": []
  }
 ],
 "metadata": {
  "kernelspec": {
   "display_name": "Python 3 (ipykernel)",
   "language": "python",
   "name": "python3"
  },
  "language_info": {
   "codemirror_mode": {
    "name": "ipython",
    "version": 3
   },
   "file_extension": ".py",
   "mimetype": "text/x-python",
   "name": "python",
   "nbconvert_exporter": "python",
   "pygments_lexer": "ipython3",
   "version": "3.11.3"
  }
 },
 "nbformat": 4,
 "nbformat_minor": 5
}
