{
 "cells": [
  {
   "cell_type": "code",
   "execution_count": 1,
   "id": "95e32406",
   "metadata": {},
   "outputs": [],
   "source": [
    "import pandas as pd"
   ]
  },
  {
   "cell_type": "code",
   "execution_count": 2,
   "id": "78c58b6f",
   "metadata": {},
   "outputs": [],
   "source": [
    "base = pd.read_csv(r'C:/Users/carol/Downloads/creditcard.csv')"
   ]
  },
  {
   "cell_type": "code",
   "execution_count": 3,
   "id": "f13ba652",
   "metadata": {},
   "outputs": [
    {
     "data": {
      "text/html": [
       "<div>\n",
       "<style scoped>\n",
       "    .dataframe tbody tr th:only-of-type {\n",
       "        vertical-align: middle;\n",
       "    }\n",
       "\n",
       "    .dataframe tbody tr th {\n",
       "        vertical-align: top;\n",
       "    }\n",
       "\n",
       "    .dataframe thead th {\n",
       "        text-align: right;\n",
       "    }\n",
       "</style>\n",
       "<table border=\"1\" class=\"dataframe\">\n",
       "  <thead>\n",
       "    <tr style=\"text-align: right;\">\n",
       "      <th></th>\n",
       "      <th>Time</th>\n",
       "      <th>V1</th>\n",
       "      <th>V2</th>\n",
       "      <th>V3</th>\n",
       "      <th>V4</th>\n",
       "      <th>V5</th>\n",
       "      <th>V6</th>\n",
       "      <th>V7</th>\n",
       "      <th>V8</th>\n",
       "      <th>V9</th>\n",
       "      <th>...</th>\n",
       "      <th>V21</th>\n",
       "      <th>V22</th>\n",
       "      <th>V23</th>\n",
       "      <th>V24</th>\n",
       "      <th>V25</th>\n",
       "      <th>V26</th>\n",
       "      <th>V27</th>\n",
       "      <th>V28</th>\n",
       "      <th>Amount</th>\n",
       "      <th>Class</th>\n",
       "    </tr>\n",
       "  </thead>\n",
       "  <tbody>\n",
       "    <tr>\n",
       "      <th>0</th>\n",
       "      <td>0.0</td>\n",
       "      <td>-1.359807</td>\n",
       "      <td>-0.072781</td>\n",
       "      <td>2.536347</td>\n",
       "      <td>1.378155</td>\n",
       "      <td>-0.338321</td>\n",
       "      <td>0.462388</td>\n",
       "      <td>0.239599</td>\n",
       "      <td>0.098698</td>\n",
       "      <td>0.363787</td>\n",
       "      <td>...</td>\n",
       "      <td>-0.018307</td>\n",
       "      <td>0.277838</td>\n",
       "      <td>-0.110474</td>\n",
       "      <td>0.066928</td>\n",
       "      <td>0.128539</td>\n",
       "      <td>-0.189115</td>\n",
       "      <td>0.133558</td>\n",
       "      <td>-0.021053</td>\n",
       "      <td>149.62</td>\n",
       "      <td>0</td>\n",
       "    </tr>\n",
       "    <tr>\n",
       "      <th>1</th>\n",
       "      <td>0.0</td>\n",
       "      <td>1.191857</td>\n",
       "      <td>0.266151</td>\n",
       "      <td>0.166480</td>\n",
       "      <td>0.448154</td>\n",
       "      <td>0.060018</td>\n",
       "      <td>-0.082361</td>\n",
       "      <td>-0.078803</td>\n",
       "      <td>0.085102</td>\n",
       "      <td>-0.255425</td>\n",
       "      <td>...</td>\n",
       "      <td>-0.225775</td>\n",
       "      <td>-0.638672</td>\n",
       "      <td>0.101288</td>\n",
       "      <td>-0.339846</td>\n",
       "      <td>0.167170</td>\n",
       "      <td>0.125895</td>\n",
       "      <td>-0.008983</td>\n",
       "      <td>0.014724</td>\n",
       "      <td>2.69</td>\n",
       "      <td>0</td>\n",
       "    </tr>\n",
       "    <tr>\n",
       "      <th>2</th>\n",
       "      <td>1.0</td>\n",
       "      <td>-1.358354</td>\n",
       "      <td>-1.340163</td>\n",
       "      <td>1.773209</td>\n",
       "      <td>0.379780</td>\n",
       "      <td>-0.503198</td>\n",
       "      <td>1.800499</td>\n",
       "      <td>0.791461</td>\n",
       "      <td>0.247676</td>\n",
       "      <td>-1.514654</td>\n",
       "      <td>...</td>\n",
       "      <td>0.247998</td>\n",
       "      <td>0.771679</td>\n",
       "      <td>0.909412</td>\n",
       "      <td>-0.689281</td>\n",
       "      <td>-0.327642</td>\n",
       "      <td>-0.139097</td>\n",
       "      <td>-0.055353</td>\n",
       "      <td>-0.059752</td>\n",
       "      <td>378.66</td>\n",
       "      <td>0</td>\n",
       "    </tr>\n",
       "  </tbody>\n",
       "</table>\n",
       "<p>3 rows × 31 columns</p>\n",
       "</div>"
      ],
      "text/plain": [
       "   Time        V1        V2        V3        V4        V5        V6        V7  \\\n",
       "0   0.0 -1.359807 -0.072781  2.536347  1.378155 -0.338321  0.462388  0.239599   \n",
       "1   0.0  1.191857  0.266151  0.166480  0.448154  0.060018 -0.082361 -0.078803   \n",
       "2   1.0 -1.358354 -1.340163  1.773209  0.379780 -0.503198  1.800499  0.791461   \n",
       "\n",
       "         V8        V9  ...       V21       V22       V23       V24       V25  \\\n",
       "0  0.098698  0.363787  ... -0.018307  0.277838 -0.110474  0.066928  0.128539   \n",
       "1  0.085102 -0.255425  ... -0.225775 -0.638672  0.101288 -0.339846  0.167170   \n",
       "2  0.247676 -1.514654  ...  0.247998  0.771679  0.909412 -0.689281 -0.327642   \n",
       "\n",
       "        V26       V27       V28  Amount  Class  \n",
       "0 -0.189115  0.133558 -0.021053  149.62      0  \n",
       "1  0.125895 -0.008983  0.014724    2.69      0  \n",
       "2 -0.139097 -0.055353 -0.059752  378.66      0  \n",
       "\n",
       "[3 rows x 31 columns]"
      ]
     },
     "execution_count": 3,
     "metadata": {},
     "output_type": "execute_result"
    }
   ],
   "source": [
    "base.head(3)"
   ]
  },
  {
   "cell_type": "code",
   "execution_count": 4,
   "id": "865bccc3",
   "metadata": {},
   "outputs": [],
   "source": [
    "X = base.drop('Class',axis = 1)\n",
    "y = base.Class"
   ]
  },
  {
   "cell_type": "code",
   "execution_count": 5,
   "id": "8117b532",
   "metadata": {},
   "outputs": [
    {
     "data": {
      "text/plain": [
       "0    0.998273\n",
       "1    0.001727\n",
       "Name: Class, dtype: float64"
      ]
     },
     "execution_count": 5,
     "metadata": {},
     "output_type": "execute_result"
    }
   ],
   "source": [
    "#para visualizar os valores de y\n",
    "y.value_counts()/y.shape[0]"
   ]
  },
  {
   "cell_type": "code",
   "execution_count": 6,
   "id": "62093cfd",
   "metadata": {},
   "outputs": [
    {
     "data": {
      "text/plain": [
       "(284807, 30)"
      ]
     },
     "execution_count": 6,
     "metadata": {},
     "output_type": "execute_result"
    }
   ],
   "source": [
    "X.shape"
   ]
  },
  {
   "cell_type": "code",
   "execution_count": 7,
   "id": "d8647bd8",
   "metadata": {},
   "outputs": [],
   "source": [
    "from sklearn.model_selection import train_test_split"
   ]
  },
  {
   "cell_type": "code",
   "execution_count": 9,
   "id": "dc5e03ed",
   "metadata": {},
   "outputs": [],
   "source": [
    "X_train, X_test, y_train, y_test = train_test_split(X,y,test_size=0.33,random_state=42,stratify=y)"
   ]
  },
  {
   "cell_type": "code",
   "execution_count": 11,
   "id": "04fd7bd5",
   "metadata": {},
   "outputs": [
    {
     "data": {
      "text/plain": [
       "0    0.998271\n",
       "1    0.001729\n",
       "Name: Class, dtype: float64"
      ]
     },
     "execution_count": 11,
     "metadata": {},
     "output_type": "execute_result"
    }
   ],
   "source": [
    "#verificando o y de treino\n",
    "y_train.value_counts()/y_train.shape[0]"
   ]
  },
  {
   "cell_type": "code",
   "execution_count": 13,
   "id": "d24d16f0",
   "metadata": {},
   "outputs": [
    {
     "data": {
      "text/plain": [
       "0    0.998276\n",
       "1    0.001724\n",
       "Name: Class, dtype: float64"
      ]
     },
     "execution_count": 13,
     "metadata": {},
     "output_type": "execute_result"
    }
   ],
   "source": [
    "#verificando o y de teste\n",
    "y_test.value_counts()/y_test.shape[0]"
   ]
  },
  {
   "cell_type": "code",
   "execution_count": 14,
   "id": "90e65222",
   "metadata": {},
   "outputs": [],
   "source": [
    "#utilizando a árvore de decisão para criar um modelo com seletor = 10\n",
    "\n",
    "from sklearn.feature_selection import SelectKBest\n",
    "seletor = SelectKBest(k = 10)"
   ]
  },
  {
   "cell_type": "code",
   "execution_count": 16,
   "id": "9c9ec68a",
   "metadata": {},
   "outputs": [],
   "source": [
    "#fazendo o fit com os dados de treino\n",
    "seletor = seletor.fit(X_train,y_train)"
   ]
  },
  {
   "cell_type": "code",
   "execution_count": 17,
   "id": "065b2388",
   "metadata": {},
   "outputs": [
    {
     "data": {
      "text/plain": [
       "array([[-0.5373172 , -0.91976418, -0.97489855, ...,  1.50600338,\n",
       "        -0.17825182, -0.97053677],\n",
       "       [ 1.27452953,  1.34801689, -0.59191994, ...,  0.10043582,\n",
       "        -0.22043114, -0.00357948],\n",
       "       [-1.80333274,  0.38520687,  0.0722869 , ...,  0.37203897,\n",
       "         0.55020954, -0.17005534],\n",
       "       ...,\n",
       "       [ 1.58156778, -0.02428591,  0.60921201, ..., -1.87993724,\n",
       "         1.24154117, -2.62321076],\n",
       "       [ 0.49654001,  1.50531804,  0.10055102, ..., -0.79691297,\n",
       "         0.40479457, -1.03306098],\n",
       "       [ 1.8233943 ,  0.31299051,  0.49935058, ..., -0.9951504 ,\n",
       "         0.51705177, -1.11336176]])"
      ]
     },
     "execution_count": 17,
     "metadata": {},
     "output_type": "execute_result"
    }
   ],
   "source": [
    "seletor.transform(X_train)"
   ]
  },
  {
   "cell_type": "code",
   "execution_count": 18,
   "id": "e8561383",
   "metadata": {},
   "outputs": [
    {
     "data": {
      "text/plain": [
       "(190820, 10)"
      ]
     },
     "execution_count": 18,
     "metadata": {},
     "output_type": "execute_result"
    }
   ],
   "source": [
    "seletor.transform(X_train).shape"
   ]
  },
  {
   "cell_type": "code",
   "execution_count": 24,
   "id": "918009f0",
   "metadata": {},
   "outputs": [],
   "source": [
    "# verificando as colunas\n",
    "colunas = seletor.get_feature_names_out()"
   ]
  },
  {
   "cell_type": "code",
   "execution_count": 25,
   "id": "1507045f",
   "metadata": {},
   "outputs": [],
   "source": [
    "from sklearn.tree import DecisionTreeClassifier"
   ]
  },
  {
   "cell_type": "code",
   "execution_count": 26,
   "id": "6d882f48",
   "metadata": {},
   "outputs": [],
   "source": [
    "clf = DecisionTreeClassifier(random_state=0)"
   ]
  },
  {
   "cell_type": "code",
   "execution_count": 27,
   "id": "af26384b",
   "metadata": {},
   "outputs": [],
   "source": [
    "X_train_best = X_train.loc[:,colunas]"
   ]
  },
  {
   "cell_type": "code",
   "execution_count": 28,
   "id": "45a9f786",
   "metadata": {},
   "outputs": [],
   "source": [
    "clf = clf.fit(X_train_best,y_train)"
   ]
  },
  {
   "cell_type": "code",
   "execution_count": 29,
   "id": "3ac1ab08",
   "metadata": {},
   "outputs": [],
   "source": [
    "X_test_best = X_test.loc[:,colunas]"
   ]
  },
  {
   "cell_type": "code",
   "execution_count": 30,
   "id": "0fcfb932",
   "metadata": {},
   "outputs": [],
   "source": [
    "y_pred = clf.predict(X_test_best)"
   ]
  },
  {
   "cell_type": "code",
   "execution_count": 31,
   "id": "a4953eb6",
   "metadata": {},
   "outputs": [],
   "source": [
    "from sklearn.metrics import f1_score"
   ]
  },
  {
   "cell_type": "code",
   "execution_count": 33,
   "id": "638482a7",
   "metadata": {},
   "outputs": [
    {
     "data": {
      "text/plain": [
       "0.7371794871794872"
      ]
     },
     "execution_count": 33,
     "metadata": {},
     "output_type": "execute_result"
    }
   ],
   "source": [
    "f1_score(y_test,y_pred)"
   ]
  },
  {
   "cell_type": "markdown",
   "id": "728592b9",
   "metadata": {},
   "source": [
    "#### percorrendo os valores de k avaliando o f1_score"
   ]
  },
  {
   "cell_type": "code",
   "execution_count": 37,
   "id": "85dfbc9c",
   "metadata": {},
   "outputs": [
    {
     "name": "stdout",
     "output_type": "stream",
     "text": [
      "1 ['V17'] 0.5696594427244581\n",
      "2 ['V14' 'V17'] 0.694267515923567\n",
      "3 ['V12' 'V14' 'V17'] 0.6873065015479877\n",
      "4 ['V10' 'V12' 'V14' 'V17'] 0.7371794871794872\n",
      "5 ['V10' 'V12' 'V14' 'V16' 'V17'] 0.7306501547987617\n",
      "6 ['V3' 'V10' 'V12' 'V14' 'V16' 'V17'] 0.7391304347826086\n",
      "7 ['V3' 'V7' 'V10' 'V12' 'V14' 'V16' 'V17'] 0.7795527156549522\n",
      "8 ['V3' 'V7' 'V10' 'V11' 'V12' 'V14' 'V16' 'V17'] 0.750788643533123\n",
      "9 ['V3' 'V4' 'V7' 'V10' 'V11' 'V12' 'V14' 'V16' 'V17'] 0.7594936708860759\n",
      "10 ['V3' 'V4' 'V7' 'V10' 'V11' 'V12' 'V14' 'V16' 'V17' 'V18'] 0.7371794871794872\n",
      "11 ['V1' 'V3' 'V4' 'V7' 'V10' 'V11' 'V12' 'V14' 'V16' 'V17' 'V18'] 0.7368421052631579\n",
      "12 ['V1' 'V3' 'V4' 'V7' 'V9' 'V10' 'V11' 'V12' 'V14' 'V16' 'V17' 'V18'] 0.742671009771987\n",
      "13 ['V1' 'V3' 'V4' 'V5' 'V7' 'V9' 'V10' 'V11' 'V12' 'V14' 'V16' 'V17' 'V18'] 0.7368421052631579\n",
      "14 ['V1' 'V2' 'V3' 'V4' 'V5' 'V7' 'V9' 'V10' 'V11' 'V12' 'V14' 'V16' 'V17'\n",
      " 'V18'] 0.75\n",
      "15 ['V1' 'V2' 'V3' 'V4' 'V5' 'V6' 'V7' 'V9' 'V10' 'V11' 'V12' 'V14' 'V16'\n",
      " 'V17' 'V18'] 0.77602523659306\n",
      "16 ['V1' 'V2' 'V3' 'V4' 'V5' 'V6' 'V7' 'V9' 'V10' 'V11' 'V12' 'V14' 'V16'\n",
      " 'V17' 'V18' 'V21'] 0.780327868852459\n",
      "17 ['V1' 'V2' 'V3' 'V4' 'V5' 'V6' 'V7' 'V9' 'V10' 'V11' 'V12' 'V14' 'V16'\n",
      " 'V17' 'V18' 'V19' 'V21'] 0.7531645569620253\n",
      "18 ['V1' 'V2' 'V3' 'V4' 'V5' 'V6' 'V7' 'V8' 'V9' 'V10' 'V11' 'V12' 'V14'\n",
      " 'V16' 'V17' 'V18' 'V19' 'V21'] 0.7515923566878981\n",
      "19 ['V1' 'V2' 'V3' 'V4' 'V5' 'V6' 'V7' 'V8' 'V9' 'V10' 'V11' 'V12' 'V14'\n",
      " 'V16' 'V17' 'V18' 'V19' 'V20' 'V21'] 0.7692307692307692\n",
      "20 ['V1' 'V2' 'V3' 'V4' 'V5' 'V6' 'V7' 'V8' 'V9' 'V10' 'V11' 'V12' 'V14'\n",
      " 'V16' 'V17' 'V18' 'V19' 'V20' 'V21' 'V27'] 0.7662337662337663\n",
      "21 ['Time' 'V1' 'V2' 'V3' 'V4' 'V5' 'V6' 'V7' 'V8' 'V9' 'V10' 'V11' 'V12'\n",
      " 'V14' 'V16' 'V17' 'V18' 'V19' 'V20' 'V21' 'V27'] 0.758169934640523\n",
      "22 ['Time' 'V1' 'V2' 'V3' 'V4' 'V5' 'V6' 'V7' 'V8' 'V9' 'V10' 'V11' 'V12'\n",
      " 'V14' 'V16' 'V17' 'V18' 'V19' 'V20' 'V21' 'V27' 'V28'] 0.7717041800643086\n",
      "23 ['Time' 'V1' 'V2' 'V3' 'V4' 'V5' 'V6' 'V7' 'V8' 'V9' 'V10' 'V11' 'V12'\n",
      " 'V14' 'V16' 'V17' 'V18' 'V19' 'V20' 'V21' 'V24' 'V27' 'V28'] 0.7637540453074433\n",
      "24 ['Time' 'V1' 'V2' 'V3' 'V4' 'V5' 'V6' 'V7' 'V8' 'V9' 'V10' 'V11' 'V12'\n",
      " 'V14' 'V15' 'V16' 'V17' 'V18' 'V19' 'V20' 'V21' 'V24' 'V27' 'V28'] 0.7898089171974522\n",
      "25 ['Time' 'V1' 'V2' 'V3' 'V4' 'V5' 'V6' 'V7' 'V8' 'V9' 'V10' 'V11' 'V12'\n",
      " 'V14' 'V15' 'V16' 'V17' 'V18' 'V19' 'V20' 'V21' 'V24' 'V27' 'V28'\n",
      " 'Amount'] 0.7711598746081505\n",
      "26 ['Time' 'V1' 'V2' 'V3' 'V4' 'V5' 'V6' 'V7' 'V8' 'V9' 'V10' 'V11' 'V12'\n",
      " 'V14' 'V15' 'V16' 'V17' 'V18' 'V19' 'V20' 'V21' 'V24' 'V26' 'V27' 'V28'\n",
      " 'Amount'] 0.7716049382716049\n",
      "27 ['Time' 'V1' 'V2' 'V3' 'V4' 'V5' 'V6' 'V7' 'V8' 'V9' 'V10' 'V11' 'V12'\n",
      " 'V13' 'V14' 'V15' 'V16' 'V17' 'V18' 'V19' 'V20' 'V21' 'V24' 'V26' 'V27'\n",
      " 'V28' 'Amount'] 0.7398119122257054\n",
      "28 ['Time' 'V1' 'V2' 'V3' 'V4' 'V5' 'V6' 'V7' 'V8' 'V9' 'V10' 'V11' 'V12'\n",
      " 'V13' 'V14' 'V15' 'V16' 'V17' 'V18' 'V19' 'V20' 'V21' 'V22' 'V24' 'V26'\n",
      " 'V27' 'V28' 'Amount'] 0.7572815533980582\n",
      "29 ['Time' 'V1' 'V2' 'V3' 'V4' 'V5' 'V6' 'V7' 'V8' 'V9' 'V10' 'V11' 'V12'\n",
      " 'V13' 'V14' 'V15' 'V16' 'V17' 'V18' 'V19' 'V20' 'V21' 'V22' 'V24' 'V25'\n",
      " 'V26' 'V27' 'V28' 'Amount'] 0.7515923566878981\n",
      "30 ['Time' 'V1' 'V2' 'V3' 'V4' 'V5' 'V6' 'V7' 'V8' 'V9' 'V10' 'V11' 'V12'\n",
      " 'V13' 'V14' 'V15' 'V16' 'V17' 'V18' 'V19' 'V20' 'V21' 'V22' 'V23' 'V24'\n",
      " 'V25' 'V26' 'V27' 'V28' 'Amount'] 0.761006289308176\n"
     ]
    }
   ],
   "source": [
    "k = []\n",
    "f1 = []\n",
    "\n",
    "for i in range(1,len(X_train.columns)+ 1):\n",
    "    \n",
    "    seletor = SelectKBest(k = i)\n",
    "    seletor = seletor.fit(X_train,y_train)\n",
    "    colunas = seletor.get_feature_names_out()\n",
    "    \n",
    "    clf = DecisionTreeClassifier(random_state=0)\n",
    "    X_train_best = X_train.loc[:,colunas]\n",
    "    clf = clf.fit(X_train_best,y_train)\n",
    "    X_test_best = X_test.loc[:,colunas]\n",
    "    y_pred = clf.predict(X_test_best)\n",
    "    \n",
    "    f1_k = f1_score(y_test,y_pred)\n",
    "    \n",
    "    print(i,colunas,f1_k)\n",
    "    \n",
    "    k.append(i)\n",
    "    f1.append(f1_k)"
   ]
  },
  {
   "cell_type": "code",
   "execution_count": 38,
   "id": "5123f9cf",
   "metadata": {},
   "outputs": [
    {
     "data": {
      "image/png": "[encoded data removed]",
      "text/plain": [
       "<Figure size 640x480 with 1 Axes>"
      ]
     },
     "metadata": {},
     "output_type": "display_data"
    }
   ],
   "source": [
    "import matplotlib.pyplot as plt\n",
    "\n",
    "fig,ax = plt.subplots()\n",
    "\n",
    "ax.plot(k, f1)\n",
    "\n",
    "plt.show()"
   ]
  },
  {
   "cell_type": "code",
   "execution_count": null,
   "id": "ace70048",
   "metadata": {},
   "outputs": [],
   "source": []
  }
 ],
 "metadata": {
  "kernelspec": {
   "display_name": "Python 3 (ipykernel)",
   "language": "python",
   "name": "python3"
  },
  "language_info": {
   "codemirror_mode": {
    "name": "ipython",
    "version": 3
   },
   "file_extension": ".py",
   "mimetype": "text/x-python",
   "name": "python",
   "nbconvert_exporter": "python",
   "pygments_lexer": "ipython3",
   "version": "3.9.13"
  }
 },
 "nbformat": 4,
 "nbformat_minor": 5
}
