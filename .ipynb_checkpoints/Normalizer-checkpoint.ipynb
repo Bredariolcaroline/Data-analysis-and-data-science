{
 "cells": [
  {
   "cell_type": "code",
   "execution_count": 1,
   "id": "af502d31",
   "metadata": {},
   "outputs": [],
   "source": [
    "#esse método faz as modificações nas linhas, diferente de outros\n",
    "from sklearn.preprocessing import Normalizer"
   ]
  },
  {
   "cell_type": "code",
   "execution_count": 2,
   "id": "652c25e9",
   "metadata": {},
   "outputs": [],
   "source": [
    "X = [[4, 1, 2, 2],\n",
    "[1, 3, 9, 3],\n",
    "[5, 7, 5, 1]]"
   ]
  },
  {
   "cell_type": "code",
   "execution_count": 3,
   "id": "f89a7d77",
   "metadata": {},
   "outputs": [],
   "source": [
    "norm = Normalizer()"
   ]
  },
  {
   "cell_type": "code",
   "execution_count": 4,
   "id": "7b2a6c98",
   "metadata": {},
   "outputs": [],
   "source": [
    "norm = norm.fit(X)"
   ]
  },
  {
   "cell_type": "code",
   "execution_count": 5,
   "id": "0e2b6d16",
   "metadata": {},
   "outputs": [
    {
     "data": {
      "text/plain": [
       "array([[0.8, 0.2, 0.4, 0.4],\n",
       "       [0.1, 0.3, 0.9, 0.3],\n",
       "       [0.5, 0.7, 0.5, 0.1]])"
      ]
     },
     "execution_count": 5,
     "metadata": {},
     "output_type": "execute_result"
    }
   ],
   "source": [
    "array_norm = norm.transform(X)\n",
    "array_norm"
   ]
  },
  {
   "cell_type": "code",
   "execution_count": 6,
   "id": "fc6639bc",
   "metadata": {},
   "outputs": [
    {
     "data": {
      "text/plain": [
       "array([[0.64, 0.04, 0.16, 0.16],\n",
       "       [0.01, 0.09, 0.81, 0.09],\n",
       "       [0.25, 0.49, 0.25, 0.01]])"
      ]
     },
     "execution_count": 6,
     "metadata": {},
     "output_type": "execute_result"
    }
   ],
   "source": [
    "array_norm**2"
   ]
  },
  {
   "cell_type": "code",
   "execution_count": 7,
   "id": "bde737b7",
   "metadata": {},
   "outputs": [
    {
     "data": {
      "text/plain": [
       "array([1., 1., 1.])"
      ]
     },
     "execution_count": 7,
     "metadata": {},
     "output_type": "execute_result"
    }
   ],
   "source": [
    "#elevando ao quadrado e somando as linhas\n",
    "# soma dos valores das linhas deve ser igual a 1\n",
    "(array_norm**2).sum(axis=1)"
   ]
  },
  {
   "cell_type": "code",
   "execution_count": 8,
   "id": "19858fc4",
   "metadata": {},
   "outputs": [],
   "source": [
    "norm = Normalizer(norm = 'max')"
   ]
  },
  {
   "cell_type": "code",
   "execution_count": 9,
   "id": "a3f8d5dd",
   "metadata": {},
   "outputs": [
    {
     "data": {
      "text/plain": [
       "array([[1.        , 0.25      , 0.5       , 0.5       ],\n",
       "       [0.11111111, 0.33333333, 1.        , 0.33333333],\n",
       "       [0.71428571, 1.        , 0.71428571, 0.14285714]])"
      ]
     },
     "execution_count": 9,
     "metadata": {},
     "output_type": "execute_result"
    }
   ],
   "source": [
    "array_norm = norm.transform(X)\n",
    "array_norm"
   ]
  },
  {
   "cell_type": "code",
   "execution_count": 10,
   "id": "67d8ab88",
   "metadata": {},
   "outputs": [
    {
     "data": {
      "text/plain": [
       "array([2.25      , 1.77777778, 2.57142857])"
      ]
     },
     "execution_count": 10,
     "metadata": {},
     "output_type": "execute_result"
    }
   ],
   "source": [
    "#somando as linhas\n",
    "array_norm.sum(axis = 1)"
   ]
  },
  {
   "cell_type": "code",
   "execution_count": 11,
   "id": "0c19ae8d",
   "metadata": {},
   "outputs": [
    {
     "data": {
      "text/plain": [
       "array([1., 1., 1.])"
      ]
     },
     "execution_count": 11,
     "metadata": {},
     "output_type": "execute_result"
    }
   ],
   "source": [
    "# nesse caso, o máximo de cada linha será 1\n",
    "array_norm.max(axis = 1)"
   ]
  },
  {
   "cell_type": "code",
   "execution_count": null,
   "id": "0a33e9c9",
   "metadata": {},
   "outputs": [],
   "source": []
  }
 ],
 "metadata": {
  "kernelspec": {
   "display_name": "Python 3 (ipykernel)",
   "language": "python",
   "name": "python3"
  },
  "language_info": {
   "codemirror_mode": {
    "name": "ipython",
    "version": 3
   },
   "file_extension": ".py",
   "mimetype": "text/x-python",
   "name": "python",
   "nbconvert_exporter": "python",
   "pygments_lexer": "ipython3",
   "version": "3.9.13"
  }
 },
 "nbformat": 4,
 "nbformat_minor": 5
}
