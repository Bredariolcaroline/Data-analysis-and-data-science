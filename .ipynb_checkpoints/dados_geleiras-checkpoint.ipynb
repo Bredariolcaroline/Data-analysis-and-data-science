{
 "cells": [
  {
   "cell_type": "code",
   "execution_count": 1,
   "id": "a563aebf",
   "metadata": {},
   "outputs": [],
   "source": [
    "import pandas as pd"
   ]
  },
  {
   "cell_type": "code",
   "execution_count": 2,
   "id": "3c6d7870",
   "metadata": {},
   "outputs": [],
   "source": [
    "base = pd.read_csv('n_seaice_extent_daily_v3_0.csv')"
   ]
  },
  {
   "cell_type": "code",
   "execution_count": 3,
   "id": "69ee6307",
   "metadata": {},
   "outputs": [
    {
     "data": {
      "text/html": [
       "<div>\n",
       "<style scoped>\n",
       "    .dataframe tbody tr th:only-of-type {\n",
       "        vertical-align: middle;\n",
       "    }\n",
       "\n",
       "    .dataframe tbody tr th {\n",
       "        vertical-align: top;\n",
       "    }\n",
       "\n",
       "    .dataframe thead th {\n",
       "        text-align: right;\n",
       "    }\n",
       "</style>\n",
       "<table border=\"1\" class=\"dataframe\">\n",
       "  <thead>\n",
       "    <tr style=\"text-align: right;\">\n",
       "      <th></th>\n",
       "      <th>year</th>\n",
       "      <th>month</th>\n",
       "      <th>day</th>\n",
       "      <th>extent_10_6_sq_km</th>\n",
       "      <th>missing_10_6_sq_km</th>\n",
       "      <th>source_data</th>\n",
       "      <th>date</th>\n",
       "    </tr>\n",
       "  </thead>\n",
       "  <tbody>\n",
       "    <tr>\n",
       "      <th>0</th>\n",
       "      <td>1978</td>\n",
       "      <td>10</td>\n",
       "      <td>26</td>\n",
       "      <td>10.231</td>\n",
       "      <td>0</td>\n",
       "      <td>['/ecs/DP1/PM/NSIDC-0051.001/1978.10.26/nt_197...</td>\n",
       "      <td>1978-10-26</td>\n",
       "    </tr>\n",
       "    <tr>\n",
       "      <th>1</th>\n",
       "      <td>1978</td>\n",
       "      <td>10</td>\n",
       "      <td>28</td>\n",
       "      <td>10.420</td>\n",
       "      <td>0</td>\n",
       "      <td>['/ecs/DP1/PM/NSIDC-0051.001/1978.10.28/nt_197...</td>\n",
       "      <td>1978-10-28</td>\n",
       "    </tr>\n",
       "    <tr>\n",
       "      <th>2</th>\n",
       "      <td>1978</td>\n",
       "      <td>10</td>\n",
       "      <td>30</td>\n",
       "      <td>10.557</td>\n",
       "      <td>0</td>\n",
       "      <td>['/ecs/DP1/PM/NSIDC-0051.001/1978.10.30/nt_197...</td>\n",
       "      <td>1978-10-30</td>\n",
       "    </tr>\n",
       "  </tbody>\n",
       "</table>\n",
       "</div>"
      ],
      "text/plain": [
       "   year  month  day  extent_10_6_sq_km  missing_10_6_sq_km  \\\n",
       "0  1978     10   26             10.231                   0   \n",
       "1  1978     10   28             10.420                   0   \n",
       "2  1978     10   30             10.557                   0   \n",
       "\n",
       "                                         source_data        date  \n",
       "0  ['/ecs/DP1/PM/NSIDC-0051.001/1978.10.26/nt_197...  1978-10-26  \n",
       "1  ['/ecs/DP1/PM/NSIDC-0051.001/1978.10.28/nt_197...  1978-10-28  \n",
       "2  ['/ecs/DP1/PM/NSIDC-0051.001/1978.10.30/nt_197...  1978-10-30  "
      ]
     },
     "execution_count": 3,
     "metadata": {},
     "output_type": "execute_result"
    }
   ],
   "source": [
    "base.head(3)"
   ]
  },
  {
   "cell_type": "code",
   "execution_count": 4,
   "id": "c95a38ba",
   "metadata": {},
   "outputs": [
    {
     "data": {
      "text/plain": [
       "year                  0\n",
       "month                 0\n",
       "day                   0\n",
       "extent_10_6_sq_km     0\n",
       "missing_10_6_sq_km    0\n",
       "source_data           0\n",
       "date                  0\n",
       "dtype: int64"
      ]
     },
     "execution_count": 4,
     "metadata": {},
     "output_type": "execute_result"
    }
   ],
   "source": [
    "base.isnull().sum()"
   ]
  },
  {
   "cell_type": "code",
   "execution_count": 5,
   "id": "af9f586b",
   "metadata": {},
   "outputs": [
    {
     "data": {
      "text/plain": [
       "1996    366\n",
       "2004    366\n",
       "2012    366\n",
       "2000    366\n",
       "2020    366\n",
       "2008    366\n",
       "2016    366\n",
       "1992    366\n",
       "2015    365\n",
       "2002    365\n",
       "2003    365\n",
       "2007    365\n",
       "2005    365\n",
       "2006    365\n",
       "1998    365\n",
       "2009    365\n",
       "2010    365\n",
       "2011    365\n",
       "1999    365\n",
       "2001    365\n",
       "1997    365\n",
       "2014    365\n",
       "1995    365\n",
       "1994    365\n",
       "1993    365\n",
       "1991    365\n",
       "1990    365\n",
       "1989    365\n",
       "2017    365\n",
       "2018    365\n",
       "2019    365\n",
       "2021    365\n",
       "2022    365\n",
       "2013    365\n",
       "1988    354\n",
       "1987    220\n",
       "2023    204\n",
       "1986    183\n",
       "1984    183\n",
       "1983    183\n",
       "1981    183\n",
       "1980    183\n",
       "1979    182\n",
       "1985    182\n",
       "1982    182\n",
       "1978     34\n",
       "Name: year, dtype: int64"
      ]
     },
     "execution_count": 5,
     "metadata": {},
     "output_type": "execute_result"
    }
   ],
   "source": [
    "base.year.value_counts(ascending=False)"
   ]
  },
  {
   "cell_type": "code",
   "execution_count": 6,
   "id": "8ef3676f",
   "metadata": {},
   "outputs": [
    {
     "data": {
      "text/plain": [
       "23    485\n",
       "21    485\n",
       "25    484\n",
       "15    484\n",
       "27    484\n",
       "19    484\n",
       "17    484\n",
       "13    484\n",
       "1     484\n",
       "11    483\n",
       "9     483\n",
       "7     483\n",
       "5     483\n",
       "3     483\n",
       "14    482\n",
       "20    482\n",
       "22    482\n",
       "18    482\n",
       "16    482\n",
       "26    482\n",
       "2     482\n",
       "28    482\n",
       "4     481\n",
       "6     481\n",
       "8     481\n",
       "10    481\n",
       "12    481\n",
       "24    481\n",
       "29    453\n",
       "30    442\n",
       "31    281\n",
       "Name: day, dtype: int64"
      ]
     },
     "execution_count": 6,
     "metadata": {},
     "output_type": "execute_result"
    }
   ],
   "source": [
    "base.day.value_counts()"
   ]
  },
  {
   "cell_type": "code",
   "execution_count": 7,
   "id": "a52ac740",
   "metadata": {},
   "outputs": [
    {
     "data": {
      "text/plain": [
       "14.404    10\n",
       "14.381     9\n",
       "15.396     8\n",
       "14.321     8\n",
       "15.107     7\n",
       "          ..\n",
       "7.383      1\n",
       "7.503      1\n",
       "7.693      1\n",
       "7.957      1\n",
       "7.485      1\n",
       "Name: extent_10_6_sq_km, Length: 8143, dtype: int64"
      ]
     },
     "execution_count": 7,
     "metadata": {},
     "output_type": "execute_result"
    }
   ],
   "source": [
    "base['extent_10_6_sq_km'].value_counts()"
   ]
  },
  {
   "cell_type": "code",
   "execution_count": 8,
   "id": "5fa9066e",
   "metadata": {},
   "outputs": [
    {
     "data": {
      "text/plain": [
       "0    14691\n",
       "Name: missing_10_6_sq_km, dtype: int64"
      ]
     },
     "execution_count": 8,
     "metadata": {},
     "output_type": "execute_result"
    }
   ],
   "source": [
    "base['missing_10_6_sq_km'].value_counts()"
   ]
  },
  {
   "cell_type": "code",
   "execution_count": 9,
   "id": "fe01dc89",
   "metadata": {},
   "outputs": [],
   "source": [
    "base2 = pd.read_csv(r'c:/Users/carol/Downloads/s_seaice_extent_daily_v3_0.csv')"
   ]
  },
  {
   "cell_type": "code",
   "execution_count": 10,
   "id": "59ba7055",
   "metadata": {},
   "outputs": [
    {
     "data": {
      "text/html": [
       "<div>\n",
       "<style scoped>\n",
       "    .dataframe tbody tr th:only-of-type {\n",
       "        vertical-align: middle;\n",
       "    }\n",
       "\n",
       "    .dataframe tbody tr th {\n",
       "        vertical-align: top;\n",
       "    }\n",
       "\n",
       "    .dataframe thead th {\n",
       "        text-align: right;\n",
       "    }\n",
       "</style>\n",
       "<table border=\"1\" class=\"dataframe\">\n",
       "  <thead>\n",
       "    <tr style=\"text-align: right;\">\n",
       "      <th></th>\n",
       "      <th>year</th>\n",
       "      <th>month</th>\n",
       "      <th>day</th>\n",
       "      <th>extent_10_6_sq_km</th>\n",
       "      <th>missing_10_6_sq_km</th>\n",
       "      <th>source_data</th>\n",
       "      <th>date</th>\n",
       "    </tr>\n",
       "  </thead>\n",
       "  <tbody>\n",
       "    <tr>\n",
       "      <th>0</th>\n",
       "      <td>1978</td>\n",
       "      <td>10</td>\n",
       "      <td>26</td>\n",
       "      <td>17.624</td>\n",
       "      <td>0.0</td>\n",
       "      <td>['/ecs/DP1/PM/NSIDC-0051.001/1978.10.26/nt_197...</td>\n",
       "      <td>1978-10-26</td>\n",
       "    </tr>\n",
       "    <tr>\n",
       "      <th>1</th>\n",
       "      <td>1978</td>\n",
       "      <td>10</td>\n",
       "      <td>28</td>\n",
       "      <td>17.803</td>\n",
       "      <td>0.0</td>\n",
       "      <td>['/ecs/DP1/PM/NSIDC-0051.001/1978.10.28/nt_197...</td>\n",
       "      <td>1978-10-28</td>\n",
       "    </tr>\n",
       "    <tr>\n",
       "      <th>2</th>\n",
       "      <td>1978</td>\n",
       "      <td>10</td>\n",
       "      <td>30</td>\n",
       "      <td>17.670</td>\n",
       "      <td>0.0</td>\n",
       "      <td>['/ecs/DP1/PM/NSIDC-0051.001/1978.10.30/nt_197...</td>\n",
       "      <td>1978-10-30</td>\n",
       "    </tr>\n",
       "  </tbody>\n",
       "</table>\n",
       "</div>"
      ],
      "text/plain": [
       "   year  month  day  extent_10_6_sq_km  missing_10_6_sq_km  \\\n",
       "0  1978     10   26             17.624                 0.0   \n",
       "1  1978     10   28             17.803                 0.0   \n",
       "2  1978     10   30             17.670                 0.0   \n",
       "\n",
       "                                         source_data        date  \n",
       "0  ['/ecs/DP1/PM/NSIDC-0051.001/1978.10.26/nt_197...  1978-10-26  \n",
       "1  ['/ecs/DP1/PM/NSIDC-0051.001/1978.10.28/nt_197...  1978-10-28  \n",
       "2  ['/ecs/DP1/PM/NSIDC-0051.001/1978.10.30/nt_197...  1978-10-30  "
      ]
     },
     "execution_count": 10,
     "metadata": {},
     "output_type": "execute_result"
    }
   ],
   "source": [
    "base2.head(3)"
   ]
  },
  {
   "cell_type": "code",
   "execution_count": 11,
   "id": "dd27440a",
   "metadata": {},
   "outputs": [
    {
     "data": {
      "text/plain": [
       "1996    366\n",
       "2004    366\n",
       "2012    366\n",
       "2000    366\n",
       "2020    366\n",
       "2008    366\n",
       "2016    366\n",
       "1992    366\n",
       "2015    365\n",
       "2002    365\n",
       "2003    365\n",
       "2007    365\n",
       "2005    365\n",
       "2006    365\n",
       "1998    365\n",
       "2009    365\n",
       "2010    365\n",
       "2011    365\n",
       "1999    365\n",
       "2001    365\n",
       "1997    365\n",
       "2014    365\n",
       "1995    365\n",
       "1994    365\n",
       "1993    365\n",
       "1991    365\n",
       "1990    365\n",
       "1989    365\n",
       "2017    365\n",
       "2018    365\n",
       "2019    365\n",
       "2021    365\n",
       "2022    365\n",
       "2013    365\n",
       "1988    354\n",
       "1987    220\n",
       "2023    204\n",
       "1986    183\n",
       "1984    183\n",
       "1983    183\n",
       "1981    183\n",
       "1980    183\n",
       "1979    182\n",
       "1985    182\n",
       "1982    182\n",
       "1978     34\n",
       "Name: year, dtype: int64"
      ]
     },
     "execution_count": 11,
     "metadata": {},
     "output_type": "execute_result"
    }
   ],
   "source": [
    "base.year.value_counts()"
   ]
  },
  {
   "cell_type": "code",
   "execution_count": 12,
   "id": "bc816abf",
   "metadata": {},
   "outputs": [
    {
     "data": {
      "text/plain": [
       "11.263040092573684"
      ]
     },
     "execution_count": 12,
     "metadata": {},
     "output_type": "execute_result"
    }
   ],
   "source": [
    "base.extent_10_6_sq_km.mean()"
   ]
  },
  {
   "cell_type": "code",
   "execution_count": 13,
   "id": "39428f67",
   "metadata": {},
   "outputs": [
    {
     "data": {
      "text/plain": [
       "0    14.404\n",
       "Name: extent_10_6_sq_km, dtype: float64"
      ]
     },
     "execution_count": 13,
     "metadata": {},
     "output_type": "execute_result"
    }
   ],
   "source": [
    "base.extent_10_6_sq_km.mode()"
   ]
  },
  {
   "cell_type": "code",
   "execution_count": 14,
   "id": "d217038a",
   "metadata": {},
   "outputs": [
    {
     "data": {
      "text/plain": [
       "11.99"
      ]
     },
     "execution_count": 14,
     "metadata": {},
     "output_type": "execute_result"
    }
   ],
   "source": [
    "base.extent_10_6_sq_km.median()"
   ]
  },
  {
   "cell_type": "code",
   "execution_count": 15,
   "id": "c0901104",
   "metadata": {},
   "outputs": [
    {
     "data": {
      "text/plain": [
       "3.34"
      ]
     },
     "execution_count": 15,
     "metadata": {},
     "output_type": "execute_result"
    }
   ],
   "source": [
    "base.extent_10_6_sq_km.min()"
   ]
  },
  {
   "cell_type": "code",
   "execution_count": 16,
   "id": "c02a2dd4",
   "metadata": {},
   "outputs": [
    {
     "data": {
      "text/plain": [
       "16.635"
      ]
     },
     "execution_count": 16,
     "metadata": {},
     "output_type": "execute_result"
    }
   ],
   "source": [
    "base.extent_10_6_sq_km.max()"
   ]
  },
  {
   "cell_type": "code",
   "execution_count": null,
   "id": "468d5679",
   "metadata": {},
   "outputs": [],
   "source": []
  }
 ],
 "metadata": {
  "kernelspec": {
   "display_name": "Python 3 (ipykernel)",
   "language": "python",
   "name": "python3"
  },
  "language_info": {
   "codemirror_mode": {
    "name": "ipython",
    "version": 3
   },
   "file_extension": ".py",
   "mimetype": "text/x-python",
   "name": "python",
   "nbconvert_exporter": "python",
   "pygments_lexer": "ipython3",
   "version": "3.11.3"
  }
 },
 "nbformat": 4,
 "nbformat_minor": 5
}
